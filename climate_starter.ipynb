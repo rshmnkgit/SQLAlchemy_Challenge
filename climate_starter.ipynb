{
 "cells": [
  {
   "cell_type": "markdown",
   "metadata": {},
   "source": [
    "## Step 1 - Climate Analysis and Exploration"
   ]
  },
  {
   "cell_type": "code",
   "execution_count": 1,
   "metadata": {},
   "outputs": [],
   "source": [
    "%matplotlib inline\n",
    "from matplotlib import style\n",
    "style.use('fivethirtyeight')\n",
    "import matplotlib.pyplot as plt"
   ]
  },
  {
   "cell_type": "code",
   "execution_count": 2,
   "metadata": {},
   "outputs": [],
   "source": [
    "import numpy as np\n",
    "import pandas as pd"
   ]
  },
  {
   "cell_type": "code",
   "execution_count": 3,
   "metadata": {},
   "outputs": [],
   "source": [
    "import datetime as dt"
   ]
  },
  {
   "cell_type": "markdown",
   "metadata": {},
   "source": [
    "# Reflect Tables into SQLAlchemy ORM"
   ]
  },
  {
   "cell_type": "code",
   "execution_count": 4,
   "metadata": {},
   "outputs": [],
   "source": [
    "# Python SQL toolkit and Object Relational Mapper\n",
    "import sqlalchemy\n",
    "from sqlalchemy.ext.automap import automap_base\n",
    "from sqlalchemy.orm import Session\n",
    "from sqlalchemy import create_engine, func"
   ]
  },
  {
   "cell_type": "code",
   "execution_count": 5,
   "metadata": {},
   "outputs": [],
   "source": [
    "engine = create_engine(\"sqlite:///Resources/hawaii.sqlite\")"
   ]
  },
  {
   "cell_type": "code",
   "execution_count": 6,
   "metadata": {},
   "outputs": [
    {
     "data": {
      "text/plain": [
       "['measurement', 'station']"
      ]
     },
     "execution_count": 6,
     "metadata": {},
     "output_type": "execute_result"
    }
   ],
   "source": [
    "# Declare a Base using `automap_base()`\n",
    "Base = automap_base()\n",
    "\n",
    "# reflect an existing database into a new model\n",
    "Base.prepare(engine, reflect=True)\n",
    "\n",
    "# reflect the tables\n",
    "Base.classes.keys()"
   ]
  },
  {
   "cell_type": "code",
   "execution_count": 7,
   "metadata": {},
   "outputs": [],
   "source": [
    "# Save references to each table\n",
    "Measurement = Base.classes.measurement\n",
    "Station = Base.classes.station"
   ]
  },
  {
   "cell_type": "code",
   "execution_count": 8,
   "metadata": {},
   "outputs": [],
   "source": [
    "# Create our session (link) from Python to the DB\n",
    "session = Session(engine)"
   ]
  },
  {
   "cell_type": "code",
   "execution_count": 9,
   "metadata": {},
   "outputs": [
    {
     "data": {
      "text/plain": [
       "{'_sa_instance_state': <sqlalchemy.orm.state.InstanceState at 0x1f669da5b70>,\n",
       " 'date': '2010-01-01',\n",
       " 'prcp': 0.08,\n",
       " 'id': 1,\n",
       " 'station': 'USC00519397',\n",
       " 'tobs': 65.0}"
      ]
     },
     "execution_count": 9,
     "metadata": {},
     "output_type": "execute_result"
    }
   ],
   "source": [
    "# Get the column names in the measurement table\n",
    "measurement_data = session.query(Measurement).first()\n",
    "measurement_data.__dict__"
   ]
  },
  {
   "cell_type": "markdown",
   "metadata": {},
   "source": [
    "# Exploratory Climate Analysis"
   ]
  },
  {
   "cell_type": "markdown",
   "metadata": {},
   "source": [
    "### Precipitation Analysis"
   ]
  },
  {
   "cell_type": "code",
   "execution_count": 10,
   "metadata": {},
   "outputs": [
    {
     "name": "stdout",
     "output_type": "stream",
     "text": [
      "Last date as datetime:  2017-08-23\n",
      "One year ago:  2016-08-23\n"
     ]
    }
   ],
   "source": [
    "# Design a query to retrieve the last 12 months of precipitation data and plot the results\n",
    "#-----------------------------------------------------------------------------------------\n",
    "# Get the last data point in the database\n",
    "max_date = session.query(func.max(Measurement.date)).first()\n",
    "last_date = dt.datetime.strptime(max_date[0], '%Y-%m-%d').date()\n",
    "print(f\"Last date as datetime:  {last_date}\")\n",
    "\n",
    "# Calculate the date 1 year ago from the last data point in the database\n",
    "yearago_date = last_date - dt.timedelta(days=365)\n",
    "print(f\"One year ago:  {yearago_date}\")"
   ]
  },
  {
   "cell_type": "code",
   "execution_count": 11,
   "metadata": {},
   "outputs": [
    {
     "data": {
      "text/html": [
       "<div>\n",
       "<style scoped>\n",
       "    .dataframe tbody tr th:only-of-type {\n",
       "        vertical-align: middle;\n",
       "    }\n",
       "\n",
       "    .dataframe tbody tr th {\n",
       "        vertical-align: top;\n",
       "    }\n",
       "\n",
       "    .dataframe thead th {\n",
       "        text-align: right;\n",
       "    }\n",
       "</style>\n",
       "<table border=\"1\" class=\"dataframe\">\n",
       "  <thead>\n",
       "    <tr style=\"text-align: right;\">\n",
       "      <th></th>\n",
       "      <th>prcp</th>\n",
       "      <th>date</th>\n",
       "    </tr>\n",
       "  </thead>\n",
       "  <tbody>\n",
       "    <tr>\n",
       "      <th>0</th>\n",
       "      <td>0.00</td>\n",
       "      <td>2016-08-23</td>\n",
       "    </tr>\n",
       "    <tr>\n",
       "      <th>1027</th>\n",
       "      <td>0.02</td>\n",
       "      <td>2016-08-23</td>\n",
       "    </tr>\n",
       "    <tr>\n",
       "      <th>702</th>\n",
       "      <td>0.05</td>\n",
       "      <td>2016-08-23</td>\n",
       "    </tr>\n",
       "    <tr>\n",
       "      <th>1693</th>\n",
       "      <td>0.70</td>\n",
       "      <td>2016-08-23</td>\n",
       "    </tr>\n",
       "    <tr>\n",
       "      <th>359</th>\n",
       "      <td>0.15</td>\n",
       "      <td>2016-08-23</td>\n",
       "    </tr>\n",
       "  </tbody>\n",
       "</table>\n",
       "</div>"
      ],
      "text/plain": [
       "      prcp        date\n",
       "0     0.00  2016-08-23\n",
       "1027  0.02  2016-08-23\n",
       "702   0.05  2016-08-23\n",
       "1693  0.70  2016-08-23\n",
       "359   0.15  2016-08-23"
      ]
     },
     "execution_count": 11,
     "metadata": {},
     "output_type": "execute_result"
    }
   ],
   "source": [
    "# Perform a query to retrieve the data and precipitation scores\n",
    "result_set = session.query(Measurement.prcp, Measurement.date).\\\n",
    "             filter(Measurement.prcp != \"None\").\\\n",
    "             filter(Measurement.date >= yearago_date).\\\n",
    "             filter(Measurement.date <= last_date).all()\n",
    "\n",
    "# Save the query results as a Pandas DataFrame\n",
    "prcp_data = pd.DataFrame(result_set)\n",
    "\n",
    "# Sort the dataframe by date\n",
    "prcp_data.sort_values('date', ascending=True, inplace=True)\n",
    "prcp_data.head()"
   ]
  },
  {
   "cell_type": "code",
   "execution_count": 12,
   "metadata": {},
   "outputs": [
    {
     "data": {
      "image/png": "[encoded data removed]",
      "text/plain": [
       "<Figure size 864x504 with 1 Axes>"
      ]
     },
     "metadata": {},
     "output_type": "display_data"
    }
   ],
   "source": [
    "# Plot the precipitation data for the last year available in the dataset\n",
    "prcp_data.plot(x='date', y='prcp', color='b', fontsize=12, alpha=.8,  figsize=(12,7), rot=45)\n",
    "plt.ylabel(\"Precipitation (inches)\", fontsize=16)\n",
    "plt.xlabel(\"Dates\", fontsize=16)\n",
    "plt.title(f\"Precipitation in Hawaii ({format(yearago_date, '%b %d, %Y')} - {format(last_date, '%b %d, %Y')})\", fontsize=16)\n",
    "plt.legend(['precipitation'])\n",
    "plt.savefig(\"output/precipitation.png\")\n",
    "plt.show()"
   ]
  },
  {
   "cell_type": "code",
   "execution_count": 13,
   "metadata": {},
   "outputs": [
    {
     "data": {
      "text/html": [
       "<div>\n",
       "<style scoped>\n",
       "    .dataframe tbody tr th:only-of-type {\n",
       "        vertical-align: middle;\n",
       "    }\n",
       "\n",
       "    .dataframe tbody tr th {\n",
       "        vertical-align: top;\n",
       "    }\n",
       "\n",
       "    .dataframe thead th {\n",
       "        text-align: right;\n",
       "    }\n",
       "</style>\n",
       "<table border=\"1\" class=\"dataframe\">\n",
       "  <thead>\n",
       "    <tr style=\"text-align: right;\">\n",
       "      <th></th>\n",
       "      <th>precipitation</th>\n",
       "    </tr>\n",
       "  </thead>\n",
       "  <tbody>\n",
       "    <tr>\n",
       "      <th>count</th>\n",
       "      <td>2021.000000</td>\n",
       "    </tr>\n",
       "    <tr>\n",
       "      <th>mean</th>\n",
       "      <td>0.177279</td>\n",
       "    </tr>\n",
       "    <tr>\n",
       "      <th>std</th>\n",
       "      <td>0.461190</td>\n",
       "    </tr>\n",
       "    <tr>\n",
       "      <th>min</th>\n",
       "      <td>0.000000</td>\n",
       "    </tr>\n",
       "    <tr>\n",
       "      <th>25%</th>\n",
       "      <td>0.000000</td>\n",
       "    </tr>\n",
       "    <tr>\n",
       "      <th>50%</th>\n",
       "      <td>0.020000</td>\n",
       "    </tr>\n",
       "    <tr>\n",
       "      <th>75%</th>\n",
       "      <td>0.130000</td>\n",
       "    </tr>\n",
       "    <tr>\n",
       "      <th>max</th>\n",
       "      <td>6.700000</td>\n",
       "    </tr>\n",
       "  </tbody>\n",
       "</table>\n",
       "</div>"
      ],
      "text/plain": [
       "       precipitation\n",
       "count    2021.000000\n",
       "mean        0.177279\n",
       "std         0.461190\n",
       "min         0.000000\n",
       "25%         0.000000\n",
       "50%         0.020000\n",
       "75%         0.130000\n",
       "max         6.700000"
      ]
     },
     "execution_count": 13,
     "metadata": {},
     "output_type": "execute_result"
    }
   ],
   "source": [
    "# Use Pandas to calcualte the summary statistics for the precipitation data\n",
    "prcp_data.rename(columns={'prcp':'precipitation'}, inplace=True)\n",
    "prcp_data.describe()"
   ]
  },
  {
   "cell_type": "markdown",
   "metadata": {},
   "source": [
    "### Station Analysis"
   ]
  },
  {
   "cell_type": "code",
   "execution_count": 14,
   "metadata": {},
   "outputs": [],
   "source": [
    "# View the column names in the Station table\n",
    "# station_data = session.query(Station).first()\n",
    "# station_data.__dict__"
   ]
  },
  {
   "cell_type": "code",
   "execution_count": 15,
   "metadata": {},
   "outputs": [
    {
     "name": "stdout",
     "output_type": "stream",
     "text": [
      "id INTEGER\n",
      "station TEXT\n",
      "name TEXT\n",
      "latitude FLOAT\n",
      "longitude FLOAT\n",
      "elevation FLOAT\n"
     ]
    }
   ],
   "source": [
    "# Inspect the column names in the Station table\n",
    "from sqlalchemy import inspect\n",
    "inspector = inspect(engine)\n",
    "columns = inspector.get_columns('station')\n",
    "for column in columns:\n",
    "    print(column[\"name\"], column[\"type\"])"
   ]
  },
  {
   "cell_type": "code",
   "execution_count": 16,
   "metadata": {},
   "outputs": [
    {
     "name": "stdout",
     "output_type": "stream",
     "text": [
      "Number of Stations : 9\n"
     ]
    }
   ],
   "source": [
    "# Design a query to show how many stations are available in this dataset?\n",
    "no_of_stations = session.query(Station.station).distinct().count()\n",
    "print(f\"Number of Stations : {no_of_stations}\")"
   ]
  },
  {
   "cell_type": "code",
   "execution_count": 17,
   "metadata": {},
   "outputs": [
    {
     "name": "stdout",
     "output_type": "stream",
     "text": [
      "Most active station:  USC00519281\n"
     ]
    },
    {
     "data": {
      "text/plain": [
       "[('USC00519281', 2772),\n",
       " ('USC00519397', 2724),\n",
       " ('USC00513117', 2709),\n",
       " ('USC00519523', 2669),\n",
       " ('USC00516128', 2612),\n",
       " ('USC00514830', 2202),\n",
       " ('USC00511918', 1979),\n",
       " ('USC00517948', 1372),\n",
       " ('USC00518838', 511)]"
      ]
     },
     "execution_count": 17,
     "metadata": {},
     "output_type": "execute_result"
    }
   ],
   "source": [
    "# What are the most active stations? (i.e. what stations have the most rows)?\n",
    "most_active = session.query(Measurement.station, func.count(Measurement.station)).\\\n",
    "              filter(Measurement.station == Station.station).\\\n",
    "              group_by(Measurement.station).\\\n",
    "              order_by(func.count(Measurement.station).desc()).first()\n",
    "print(f\"Most active station:  {most_active.station}\")\n",
    "\n",
    "# List the stations and the counts in descending order.\n",
    "session.query(Measurement.station, func.count(Measurement.station)).\\\n",
    "filter(Measurement.station == Station.station).\\\n",
    "group_by(Measurement.station).\\\n",
    "order_by(func.count(Measurement.station).desc()).all()"
   ]
  },
  {
   "cell_type": "code",
   "execution_count": 18,
   "metadata": {},
   "outputs": [
    {
     "name": "stdout",
     "output_type": "stream",
     "text": [
      "Station : USC00519281\n",
      "Minimum Temperature : 54.0 \n",
      "Maximum Temperature : 85.0\n",
      "Average Temperature : 71.66378066378067\n"
     ]
    }
   ],
   "source": [
    "# Using the station id from the previous query, calculate the lowest temperature recorded, \n",
    "# highest temperature recorded, and average temperature of the most active station?\n",
    "result = session.query(func.min(Measurement.tobs), func.max(Measurement.tobs), func.avg(Measurement.tobs)).\\\n",
    "        filter(Measurement.station == most_active.station)\n",
    "print(f\"Station : {most_active.station}\")\n",
    "print(f\"Minimum Temperature : {result[0][0]} \\nMaximum Temperature : {result[0][1]}\")\n",
    "print(f\"Average Temperature : {result[0][2]}\")"
   ]
  },
  {
   "cell_type": "code",
   "execution_count": 19,
   "metadata": {},
   "outputs": [
    {
     "name": "stdout",
     "output_type": "stream",
     "text": [
      "Station with highest number of observations :  USC00519281\n",
      "Number of observations for the station USC00519281 : 2772\n"
     ]
    },
    {
     "data": {
      "image/png": "[encoded data removed]",
      "text/plain": [
       "<Figure size 864x432 with 1 Axes>"
      ]
     },
     "metadata": {},
     "output_type": "display_data"
    }
   ],
   "source": [
    "# Choose the station with the highest number of temperature observations.\n",
    "print(f\"Station with highest number of observations :  {most_active.station}\")\n",
    "print(f\"Number of observations for the station {most_active.station} : {most_active[1]}\")\n",
    "\n",
    "# Query the last 12 months of temperature observation data for this station\n",
    "tobs_data = session.query(Measurement.tobs).\\\n",
    "        filter(Measurement.station == most_active.station).\\\n",
    "        filter(Measurement.date.between(yearago_date, last_date)).all()\n",
    "\n",
    "# and plot the results as a Histogram\n",
    "plt.figure(figsize=(12,6))\n",
    "plt.hist(np.ravel(tobs_data), bins=12)       # convert the tobs_data result set into an array and plot\n",
    "plt.title(f\"Temperature Measurements for the station {most_active.station}\\\n",
    "        \\n({format(yearago_date, '%b %d, %Y')} - {format(last_date, '%b %d, %Y')})\", fontsize=16)\n",
    "plt.xlabel(\"Temperature\", fontsize=15)\n",
    "plt.ylabel(\"Frequency\", fontsize=15)\n",
    "plt.legend(['tobs'])\n",
    "plt.savefig(\"output/histogram.png\")\n",
    "plt.show()"
   ]
  },
  {
   "cell_type": "markdown",
   "metadata": {},
   "source": [
    "## Bonus Challenge Assignment"
   ]
  },
  {
   "cell_type": "markdown",
   "metadata": {},
   "source": [
    "### Temperature Analysis I"
   ]
  },
  {
   "cell_type": "markdown",
   "metadata": {},
   "source": [
    "###### Q.  Will you use a paired t-test, or an unpaired t-test? Why?\n",
    "\n",
    "    The sample data here is the average temperature of the selected stations in June/Summer and December/Winter. It is the  same group or set of stations where the the temperature readings are taken in two different times of the year. It is a  dependant group and so we have to use paired t-test.\n"
   ]
  },
  {
   "cell_type": "code",
   "execution_count": 20,
   "metadata": {},
   "outputs": [],
   "source": [
    "conn = engine.connect()"
   ]
  },
  {
   "cell_type": "code",
   "execution_count": 21,
   "metadata": {},
   "outputs": [
    {
     "data": {
      "text/html": [
       "<div>\n",
       "<style scoped>\n",
       "    .dataframe tbody tr th:only-of-type {\n",
       "        vertical-align: middle;\n",
       "    }\n",
       "\n",
       "    .dataframe tbody tr th {\n",
       "        vertical-align: top;\n",
       "    }\n",
       "\n",
       "    .dataframe thead th {\n",
       "        text-align: right;\n",
       "    }\n",
       "</style>\n",
       "<table border=\"1\" class=\"dataframe\">\n",
       "  <thead>\n",
       "    <tr style=\"text-align: right;\">\n",
       "      <th></th>\n",
       "      <th>station</th>\n",
       "      <th>avgtobs</th>\n",
       "      <th>month</th>\n",
       "    </tr>\n",
       "  </thead>\n",
       "  <tbody>\n",
       "    <tr>\n",
       "      <th>0</th>\n",
       "      <td>USC00511918</td>\n",
       "      <td>74.139394</td>\n",
       "      <td>06</td>\n",
       "    </tr>\n",
       "    <tr>\n",
       "      <th>1</th>\n",
       "      <td>USC00513117</td>\n",
       "      <td>74.050847</td>\n",
       "      <td>06</td>\n",
       "    </tr>\n",
       "    <tr>\n",
       "      <th>2</th>\n",
       "      <td>USC00514830</td>\n",
       "      <td>76.005376</td>\n",
       "      <td>06</td>\n",
       "    </tr>\n",
       "    <tr>\n",
       "      <th>3</th>\n",
       "      <td>USC00516128</td>\n",
       "      <td>71.937220</td>\n",
       "      <td>06</td>\n",
       "    </tr>\n",
       "    <tr>\n",
       "      <th>4</th>\n",
       "      <td>USC00517948</td>\n",
       "      <td>76.655405</td>\n",
       "      <td>06</td>\n",
       "    </tr>\n",
       "    <tr>\n",
       "      <th>5</th>\n",
       "      <td>USC00518838</td>\n",
       "      <td>73.394737</td>\n",
       "      <td>06</td>\n",
       "    </tr>\n",
       "    <tr>\n",
       "      <th>6</th>\n",
       "      <td>USC00519281</td>\n",
       "      <td>73.271186</td>\n",
       "      <td>06</td>\n",
       "    </tr>\n",
       "    <tr>\n",
       "      <th>7</th>\n",
       "      <td>USC00519397</td>\n",
       "      <td>77.559322</td>\n",
       "      <td>06</td>\n",
       "    </tr>\n",
       "    <tr>\n",
       "      <th>8</th>\n",
       "      <td>USC00519523</td>\n",
       "      <td>76.668103</td>\n",
       "      <td>06</td>\n",
       "    </tr>\n",
       "  </tbody>\n",
       "</table>\n",
       "</div>"
      ],
      "text/plain": [
       "       station    avgtobs month\n",
       "0  USC00511918  74.139394    06\n",
       "1  USC00513117  74.050847    06\n",
       "2  USC00514830  76.005376    06\n",
       "3  USC00516128  71.937220    06\n",
       "4  USC00517948  76.655405    06\n",
       "5  USC00518838  73.394737    06\n",
       "6  USC00519281  73.271186    06\n",
       "7  USC00519397  77.559322    06\n",
       "8  USC00519523  76.668103    06"
      ]
     },
     "execution_count": 21,
     "metadata": {},
     "output_type": "execute_result"
    }
   ],
   "source": [
    "# Identify the average temperature in June at all stations across all available years\n",
    "june_tobs = pd.read_sql_query(\"select station, avg(tobs) as avgtobs, strftime('%m', datetime(date)) as month from measurement where month='06' group by station\", conn)\n",
    "june_tobs"
   ]
  },
  {
   "cell_type": "code",
   "execution_count": 22,
   "metadata": {},
   "outputs": [
    {
     "data": {
      "text/html": [
       "<div>\n",
       "<style scoped>\n",
       "    .dataframe tbody tr th:only-of-type {\n",
       "        vertical-align: middle;\n",
       "    }\n",
       "\n",
       "    .dataframe tbody tr th {\n",
       "        vertical-align: top;\n",
       "    }\n",
       "\n",
       "    .dataframe thead th {\n",
       "        text-align: right;\n",
       "    }\n",
       "</style>\n",
       "<table border=\"1\" class=\"dataframe\">\n",
       "  <thead>\n",
       "    <tr style=\"text-align: right;\">\n",
       "      <th></th>\n",
       "      <th>station</th>\n",
       "      <th>avgtobs</th>\n",
       "      <th>month</th>\n",
       "    </tr>\n",
       "  </thead>\n",
       "  <tbody>\n",
       "    <tr>\n",
       "      <th>0</th>\n",
       "      <td>USC00511918</td>\n",
       "      <td>69.684211</td>\n",
       "      <td>12</td>\n",
       "    </tr>\n",
       "    <tr>\n",
       "      <th>1</th>\n",
       "      <td>USC00513117</td>\n",
       "      <td>71.069444</td>\n",
       "      <td>12</td>\n",
       "    </tr>\n",
       "    <tr>\n",
       "      <th>2</th>\n",
       "      <td>USC00514830</td>\n",
       "      <td>73.224719</td>\n",
       "      <td>12</td>\n",
       "    </tr>\n",
       "    <tr>\n",
       "      <th>3</th>\n",
       "      <td>USC00516128</td>\n",
       "      <td>69.291262</td>\n",
       "      <td>12</td>\n",
       "    </tr>\n",
       "    <tr>\n",
       "      <th>4</th>\n",
       "      <td>USC00517948</td>\n",
       "      <td>71.834862</td>\n",
       "      <td>12</td>\n",
       "    </tr>\n",
       "    <tr>\n",
       "      <th>5</th>\n",
       "      <td>USC00518838</td>\n",
       "      <td>72.421053</td>\n",
       "      <td>12</td>\n",
       "    </tr>\n",
       "    <tr>\n",
       "      <th>6</th>\n",
       "      <td>USC00519281</td>\n",
       "      <td>69.903226</td>\n",
       "      <td>12</td>\n",
       "    </tr>\n",
       "    <tr>\n",
       "      <th>7</th>\n",
       "      <td>USC00519397</td>\n",
       "      <td>71.109524</td>\n",
       "      <td>12</td>\n",
       "    </tr>\n",
       "    <tr>\n",
       "      <th>8</th>\n",
       "      <td>USC00519523</td>\n",
       "      <td>72.433333</td>\n",
       "      <td>12</td>\n",
       "    </tr>\n",
       "  </tbody>\n",
       "</table>\n",
       "</div>"
      ],
      "text/plain": [
       "       station    avgtobs month\n",
       "0  USC00511918  69.684211    12\n",
       "1  USC00513117  71.069444    12\n",
       "2  USC00514830  73.224719    12\n",
       "3  USC00516128  69.291262    12\n",
       "4  USC00517948  71.834862    12\n",
       "5  USC00518838  72.421053    12\n",
       "6  USC00519281  69.903226    12\n",
       "7  USC00519397  71.109524    12\n",
       "8  USC00519523  72.433333    12"
      ]
     },
     "execution_count": 22,
     "metadata": {},
     "output_type": "execute_result"
    }
   ],
   "source": [
    "#Identify the average temperature in December at all stations across all available years\n",
    "december_tobs = pd.read_sql_query(\"select station, avg(tobs) as avgtobs, strftime('%m', datetime(date)) as month from measurement  where month='12' group by station\", conn)\n",
    "december_tobs"
   ]
  },
  {
   "cell_type": "code",
   "execution_count": 23,
   "metadata": {},
   "outputs": [
    {
     "data": {
      "text/plain": [
       "Ttest_relResult(statistic=6.95696617044294, pvalue=0.00011759380231523222)"
      ]
     },
     "execution_count": 23,
     "metadata": {},
     "output_type": "execute_result"
    }
   ],
   "source": [
    "from scipy.stats import ttest_rel\n",
    "ttest_rel(june_tobs['avgtobs'], december_tobs['avgtobs'])"
   ]
  },
  {
   "cell_type": "markdown",
   "metadata": {},
   "source": [
    "###### Q. Use the t-test to determine whether the difference in the means, if any, is statistically significant.\n",
    "\n",
    "    Statistically, there is a significant difference in Hawaii temperature between June and December because the pvalue = 0.00011759380231523222 which is less than 0.5. "
   ]
  },
  {
   "cell_type": "markdown",
   "metadata": {},
   "source": [
    "### Temperature Analysis II"
   ]
  },
  {
   "cell_type": "code",
   "execution_count": 24,
   "metadata": {},
   "outputs": [
    {
     "name": "stdout",
     "output_type": "stream",
     "text": [
      "[(62.0, 69.57142857142857, 74.0)]\n"
     ]
    }
   ],
   "source": [
    "# This function called `calc_temps` will accept start date and end date in the format '%Y-%m-%d' \n",
    "# and return the minimum, average, and maximum temperatures for that range of dates\n",
    "def calc_temps(start_date, end_date):\n",
    "    \"\"\"TMIN, TAVG, and TMAX for a list of dates.\n",
    "    \n",
    "    Args:\n",
    "        start_date (string): A date string in the format %Y-%m-%d\n",
    "        end_date (string): A date string in the format %Y-%m-%d\n",
    "        \n",
    "    Returns:\n",
    "        TMIN, TAVE, and TMAX\n",
    "    \"\"\"\n",
    "    \n",
    "    return session.query(func.min(Measurement.tobs), func.avg(Measurement.tobs), func.max(Measurement.tobs)).\\\n",
    "        filter(Measurement.date >= start_date).filter(Measurement.date <= end_date).all()\n",
    "\n",
    "# function usage example\n",
    "print(calc_temps('2012-02-28', '2012-03-05'))"
   ]
  },
  {
   "cell_type": "markdown",
   "metadata": {},
   "source": [
    "#### Trip dates : 2018-01-01  to   2018-01-11"
   ]
  },
  {
   "cell_type": "code",
   "execution_count": 25,
   "metadata": {},
   "outputs": [
    {
     "name": "stdout",
     "output_type": "stream",
     "text": [
      "2017-05-02      2017-05-14\n"
     ]
    }
   ],
   "source": [
    "trip_start = dt.datetime(2018, 5, 2)\n",
    "trip_end = dt.datetime(2018, 5, 14)\n",
    "\n",
    "# previous year start and end for the same dates\n",
    "yearago_startdt = (trip_start - dt.timedelta(days=365)).date()\n",
    "yearago_enddt = (trip_end - dt.timedelta(days=365)).date()\n",
    "print(f\"{yearago_startdt}      {yearago_enddt}\")"
   ]
  },
  {
   "cell_type": "code",
   "execution_count": 26,
   "metadata": {},
   "outputs": [
    {
     "name": "stdout",
     "output_type": "stream",
     "text": [
      "66.0  75.48611111111111  80.0\n"
     ]
    }
   ],
   "source": [
    "# Use your previous function `calc_temps` to calculate the tmin, tavg, and tmax \n",
    "# for your trip using the previous year's data for those same dates.\n",
    "\n",
    "tmin, tavg, tmax = calc_temps(yearago_startdt, yearago_enddt)[0]\n",
    "print(f\"{tmin}  {tavg}  {tmax}\")"
   ]
  },
  {
   "cell_type": "code",
   "execution_count": 27,
   "metadata": {},
   "outputs": [
    {
     "data": {
      "image/png": "[encoded data removed]",
      "text/plain": [
       "<Figure size 216x432 with 1 Axes>"
      ]
     },
     "metadata": {},
     "output_type": "display_data"
    }
   ],
   "source": [
    "# Plot the results from your previous query as a bar chart. \n",
    "# Use \"Trip Avg Temp\" as your Title\n",
    "# Use the average temperature for the y value\n",
    "# Use the peak-to-peak (tmax-tmin) value as the y error bar (yerr)\n",
    "fig, ax = plt.subplots()\n",
    "yerr = tmax-tmin\n",
    "ax.bar([0], tavg, yerr=yerr, align='center', color = 'lightcoral', alpha=0.5, ecolor='black', capsize=6)\n",
    "ax.set_ylabel('Temp (F)')\n",
    "ax.set_xlabel('Hawaii', fontsize=12)\n",
    "ax.set_xticks([])\n",
    "ax.set_title('Trip Avg Temp')\n",
    "# ax.yaxis.grid(True)\n",
    "fig.set_figwidth(3)\n",
    "fig.set_figheight(6)\n",
    "# Save the figure and show\n",
    "plt.tight_layout()\n",
    "plt.savefig('output/temp_errorbar.png')\n",
    "plt.show()"
   ]
  },
  {
   "cell_type": "markdown",
   "metadata": {},
   "source": [
    "### Daily Rainfall Average"
   ]
  },
  {
   "cell_type": "code",
   "execution_count": 30,
   "metadata": {},
   "outputs": [
    {
     "name": "stdout",
     "output_type": "stream",
     "text": [
      "('USC00516128', 3.6600000000000006, 'MANOA LYON ARBO 785.2, HI US', 21.3331, -157.8025, 152.4)\n",
      "('USC00519281', 2.9800000000000004, 'WAIHEE 837.5, HI US', 21.45167, -157.84888999999998, 32.9)\n",
      "('USC00513117', 2.1399999999999997, 'KANEOHE 838.1, HI US', 21.4234, -157.8015, 14.6)\n",
      "('USC00514830', 1.91, 'KUALOA RANCH HEADQUARTERS 886.9, HI US', 21.5213, -157.8374, 7.0)\n",
      "('USC00519523', 0.74, 'WAIMANALO EXPERIMENTAL FARM, HI US', 21.33556, -157.71139, 19.5)\n",
      "('USC00519397', 0.01, 'WAIKIKI 717.2, HI US', 21.2716, -157.8168, 3.0)\n"
     ]
    }
   ],
   "source": [
    "# Calculate the total amount of rainfall per weather station for your trip dates using the previous year's matching dates.\n",
    "# Sort this in descending order by precipitation amount and list the station, name, latitude, longitude, and elevation\n",
    "rainfall_data = session.query(Measurement.station, func.sum(Measurement.prcp), \\\n",
    "            Station.name, Station.latitude, Station.longitude, Station.elevation)\\\n",
    "            .filter(Measurement.station == Station.station)\\\n",
    "            .filter(Measurement.date >= yearago_startdt)\\\n",
    "            .filter(Measurement.date <= yearago_enddt)\\\n",
    "            .group_by(Measurement.station)\\\n",
    "            .order_by(func.sum(Measurement.prcp).desc()).all()\n",
    "\n",
    "for eachrow in rainfall_data:\n",
    "    print(eachrow)"
   ]
  },
  {
   "cell_type": "code",
   "execution_count": 31,
   "metadata": {},
   "outputs": [
    {
     "data": {
      "text/plain": [
       "[(62.0, 69.15384615384616, 77.0)]"
      ]
     },
     "execution_count": 31,
     "metadata": {},
     "output_type": "execute_result"
    }
   ],
   "source": [
    "# Create a query that will calculate the daily normals \n",
    "# (i.e. the averages for tmin, tmax, and tavg for all historic data matching a specific month and day)\n",
    "\n",
    "def daily_normals(date):\n",
    "    \"\"\"Daily Normals.\n",
    "    \n",
    "    Args:\n",
    "        date (str): A date string in the format '%m-%d'\n",
    "        \n",
    "    Returns:\n",
    "        A list of tuples containing the daily normals, tmin, tavg, and tmax\n",
    "    \n",
    "    \"\"\"\n",
    "    \n",
    "    sel = [func.min(Measurement.tobs), func.avg(Measurement.tobs), func.max(Measurement.tobs)]\n",
    "    return session.query(*sel).filter(func.strftime(\"%m-%d\", Measurement.date) == date).all()\n",
    "    \n",
    "daily_normals(\"01-01\")"
   ]
  },
  {
   "cell_type": "code",
   "execution_count": 32,
   "metadata": {},
   "outputs": [
    {
     "data": {
      "text/plain": [
       "[{'tMin': 65.0, 'tAvg': 73.05084745762711, 'tMax': 79.0},\n",
       " {'tMin': 67.0, 'tAvg': 73.41071428571429, 'tMax': 84.0},\n",
       " {'tMin': 65.0, 'tAvg': 73.59649122807018, 'tMax': 78.0},\n",
       " {'tMin': 67.0, 'tAvg': 73.39655172413794, 'tMax': 79.0},\n",
       " {'tMin': 66.0, 'tAvg': 73.14035087719299, 'tMax': 80.0},\n",
       " {'tMin': 64.0, 'tAvg': 71.78846153846153, 'tMax': 79.0},\n",
       " {'tMin': 65.0, 'tAvg': 72.18867924528301, 'tMax': 80.0},\n",
       " {'tMin': 67.0, 'tAvg': 72.9322033898305, 'tMax': 79.0},\n",
       " {'tMin': 64.0, 'tAvg': 73.3157894736842, 'tMax': 78.0},\n",
       " {'tMin': 65.0, 'tAvg': 73.61111111111111, 'tMax': 79.0},\n",
       " {'tMin': 65.0, 'tAvg': 73.13793103448276, 'tMax': 79.0},\n",
       " {'tMin': 67.0, 'tAvg': 73.14285714285714, 'tMax': 79.0},\n",
       " {'tMin': 63.0, 'tAvg': 73.89285714285714, 'tMax': 80.0}]"
      ]
     },
     "execution_count": 32,
     "metadata": {},
     "output_type": "execute_result"
    }
   ],
   "source": [
    "# calculate the daily normals for your trip\n",
    "# push each tuple of calculations into a list called `normals`\n",
    "\n",
    "# Set the start and end date of the trip\n",
    "start_date = trip_start\n",
    "end_date = trip_end\n",
    "\n",
    "# Use the start and end date to create a range of dates\n",
    "date_range = pd.date_range(start_date, end_date)\n",
    "\n",
    "# Stip off the year and save a list of %m-%d strings\n",
    "date_list = []\n",
    "for eachdate in date_range:\n",
    "    mmdd = dt.datetime.strftime(eachdate, '%m-%d')\n",
    "    date_list.append(mmdd)\n",
    "\n",
    "# Loop through the list of %m-%d strings and calculate the normals for each date\n",
    "normals_list = []\n",
    "\n",
    "for item in date_list:\n",
    "    temp = daily_normals(item)\n",
    "    normals_list.append({'tMin':temp[0][0], \n",
    "                         'tAvg':temp[0][1], 'tMax':temp[0][2]})\n",
    "normals_list"
   ]
  },
  {
   "cell_type": "code",
   "execution_count": 33,
   "metadata": {},
   "outputs": [
    {
     "data": {
      "text/html": [
       "<div>\n",
       "<style scoped>\n",
       "    .dataframe tbody tr th:only-of-type {\n",
       "        vertical-align: middle;\n",
       "    }\n",
       "\n",
       "    .dataframe tbody tr th {\n",
       "        vertical-align: top;\n",
       "    }\n",
       "\n",
       "    .dataframe thead th {\n",
       "        text-align: right;\n",
       "    }\n",
       "</style>\n",
       "<table border=\"1\" class=\"dataframe\">\n",
       "  <thead>\n",
       "    <tr style=\"text-align: right;\">\n",
       "      <th></th>\n",
       "      <th>tMin</th>\n",
       "      <th>tAvg</th>\n",
       "      <th>tMax</th>\n",
       "      <th>date</th>\n",
       "    </tr>\n",
       "  </thead>\n",
       "  <tbody>\n",
       "    <tr>\n",
       "      <th>0</th>\n",
       "      <td>65.0</td>\n",
       "      <td>73.050847</td>\n",
       "      <td>79.0</td>\n",
       "      <td>2018-05-02</td>\n",
       "    </tr>\n",
       "    <tr>\n",
       "      <th>1</th>\n",
       "      <td>67.0</td>\n",
       "      <td>73.410714</td>\n",
       "      <td>84.0</td>\n",
       "      <td>2018-05-03</td>\n",
       "    </tr>\n",
       "    <tr>\n",
       "      <th>2</th>\n",
       "      <td>65.0</td>\n",
       "      <td>73.596491</td>\n",
       "      <td>78.0</td>\n",
       "      <td>2018-05-04</td>\n",
       "    </tr>\n",
       "    <tr>\n",
       "      <th>3</th>\n",
       "      <td>67.0</td>\n",
       "      <td>73.396552</td>\n",
       "      <td>79.0</td>\n",
       "      <td>2018-05-05</td>\n",
       "    </tr>\n",
       "    <tr>\n",
       "      <th>4</th>\n",
       "      <td>66.0</td>\n",
       "      <td>73.140351</td>\n",
       "      <td>80.0</td>\n",
       "      <td>2018-05-06</td>\n",
       "    </tr>\n",
       "    <tr>\n",
       "      <th>5</th>\n",
       "      <td>64.0</td>\n",
       "      <td>71.788462</td>\n",
       "      <td>79.0</td>\n",
       "      <td>2018-05-07</td>\n",
       "    </tr>\n",
       "    <tr>\n",
       "      <th>6</th>\n",
       "      <td>65.0</td>\n",
       "      <td>72.188679</td>\n",
       "      <td>80.0</td>\n",
       "      <td>2018-05-08</td>\n",
       "    </tr>\n",
       "    <tr>\n",
       "      <th>7</th>\n",
       "      <td>67.0</td>\n",
       "      <td>72.932203</td>\n",
       "      <td>79.0</td>\n",
       "      <td>2018-05-09</td>\n",
       "    </tr>\n",
       "    <tr>\n",
       "      <th>8</th>\n",
       "      <td>64.0</td>\n",
       "      <td>73.315789</td>\n",
       "      <td>78.0</td>\n",
       "      <td>2018-05-10</td>\n",
       "    </tr>\n",
       "    <tr>\n",
       "      <th>9</th>\n",
       "      <td>65.0</td>\n",
       "      <td>73.611111</td>\n",
       "      <td>79.0</td>\n",
       "      <td>2018-05-11</td>\n",
       "    </tr>\n",
       "    <tr>\n",
       "      <th>10</th>\n",
       "      <td>65.0</td>\n",
       "      <td>73.137931</td>\n",
       "      <td>79.0</td>\n",
       "      <td>2018-05-12</td>\n",
       "    </tr>\n",
       "    <tr>\n",
       "      <th>11</th>\n",
       "      <td>67.0</td>\n",
       "      <td>73.142857</td>\n",
       "      <td>79.0</td>\n",
       "      <td>2018-05-13</td>\n",
       "    </tr>\n",
       "    <tr>\n",
       "      <th>12</th>\n",
       "      <td>63.0</td>\n",
       "      <td>73.892857</td>\n",
       "      <td>80.0</td>\n",
       "      <td>2018-05-14</td>\n",
       "    </tr>\n",
       "  </tbody>\n",
       "</table>\n",
       "</div>"
      ],
      "text/plain": [
       "    tMin       tAvg  tMax        date\n",
       "0   65.0  73.050847  79.0  2018-05-02\n",
       "1   67.0  73.410714  84.0  2018-05-03\n",
       "2   65.0  73.596491  78.0  2018-05-04\n",
       "3   67.0  73.396552  79.0  2018-05-05\n",
       "4   66.0  73.140351  80.0  2018-05-06\n",
       "5   64.0  71.788462  79.0  2018-05-07\n",
       "6   65.0  72.188679  80.0  2018-05-08\n",
       "7   67.0  72.932203  79.0  2018-05-09\n",
       "8   64.0  73.315789  78.0  2018-05-10\n",
       "9   65.0  73.611111  79.0  2018-05-11\n",
       "10  65.0  73.137931  79.0  2018-05-12\n",
       "11  67.0  73.142857  79.0  2018-05-13\n",
       "12  63.0  73.892857  80.0  2018-05-14"
      ]
     },
     "execution_count": 33,
     "metadata": {},
     "output_type": "execute_result"
    }
   ],
   "source": [
    "# Load the previous query results into a Pandas DataFrame and add the `trip_dates` range as the `date` index\n",
    "daily_normal_df = pd.DataFrame(normals_list)\n",
    "daily_normal_df['date'] = date_range.astype(str)\n",
    "daily_normal_df"
   ]
  },
  {
   "cell_type": "code",
   "execution_count": 34,
   "metadata": {},
   "outputs": [
    {
     "data": {
      "image/png": "[encoded data removed]",
      "text/plain": [
       "<Figure size 720x360 with 1 Axes>"
      ]
     },
     "metadata": {},
     "output_type": "display_data"
    }
   ],
   "source": [
    "# Plot the daily normals as an area plot with `stacked=False`\n",
    "daily_normal_df.plot(kind='area', x='date', stacked = False, figsize=(10,5), rot=35)\n",
    "plt.xlabel(\"Trip Dates\")\n",
    "plt.ylabel(\"Temperature\")\n",
    "plt.title(\"Temperature - Daily Normals\")\n",
    "plt.xticks(ha='right')\n",
    "plt.savefig(\"output/daily_normals.png\")\n",
    "plt.show()"
   ]
  },
  {
   "cell_type": "code",
   "execution_count": null,
   "metadata": {},
   "outputs": [],
   "source": []
  }
 ],
 "metadata": {
  "kernel_info": {
   "name": "python3"
  },
  "kernelspec": {
   "display_name": "Python 3",
   "language": "python",
   "name": "python3"
  },
  "language_info": {
   "codemirror_mode": {
    "name": "ipython",
    "version": 3
   },
   "file_extension": ".py",
   "mimetype": "text/x-python",
   "name": "python",
   "nbconvert_exporter": "python",
   "pygments_lexer": "ipython3",
   "version": "3.6.10"
  },
  "nteract": {
   "version": "0.12.3"
  },
  "varInspector": {
   "cols": {
    "lenName": 16,
    "lenType": 16,
    "lenVar": 40
   },
   "kernels_config": {
    "python": {
     "delete_cmd_postfix": "",
     "delete_cmd_prefix": "del ",
     "library": "var_list.py",
     "varRefreshCmd": "print(var_dic_list())"
    },
    "r": {
     "delete_cmd_postfix": ") ",
     "delete_cmd_prefix": "rm(",
     "library": "var_list.r",
     "varRefreshCmd": "cat(var_dic_list()) "
    }
   },
   "types_to_exclude": [
    "module",
    "function",
    "builtin_function_or_method",
    "instance",
    "_Feature"
   ],
   "window_display": false
  }
 },
 "nbformat": 4,
 "nbformat_minor": 2
}
